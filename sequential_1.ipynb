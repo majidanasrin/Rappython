{
  "nbformat": 4,
  "nbformat_minor": 0,
  "metadata": {
    "colab": {
      "provenance": []
    },
    "kernelspec": {
      "name": "python3",
      "display_name": "Python 3"
    },
    "language_info": {
      "name": "python"
    }
  },
  "cells": [
    {
      "cell_type": "markdown",
      "source": [
        "pgm 1"
      ],
      "metadata": {
        "id": "7jrVchKwJpJn"
      }
    },
    {
      "cell_type": "code",
      "execution_count": null,
      "metadata": {
        "colab": {
          "base_uri": "https://localhost:8080/"
        },
        "id": "cMbpA4J1TC6t",
        "outputId": "4f7cb947-c67c-45f8-b076-a58a4c7f506f"
      },
      "outputs": [
        {
          "output_type": "stream",
          "name": "stdout",
          "text": [
            "enter first number : 5\n",
            "enter 2nd number : 7\n",
            "sum= 12\n"
          ]
        }
      ],
      "source": [
        "num1=int(input(\"enter first number : \"))\n",
        "num2=int(input(\"enter 2nd number : \"))\n",
        "sum=num1+num2\n",
        "\n",
        "print(\"sum=\",sum)"
      ]
    },
    {
      "cell_type": "markdown",
      "source": [
        "pgm 2"
      ],
      "metadata": {
        "id": "bLOt306OJrYe"
      }
    },
    {
      "cell_type": "code",
      "source": [
        "a=int(input(\"enter the side : \"))\n",
        "b=int(input(\"enter the side : \"))\n",
        "c=int(input(\"enter the side : \"))\n",
        "\n",
        "perimeter=a+b+c\n",
        "area=.5*(a*b)\n",
        "\n",
        "print(\"perimeter of traingle : \",perimeter)\n",
        "print(\"area of traingle\",area)"
      ],
      "metadata": {
        "colab": {
          "base_uri": "https://localhost:8080/"
        },
        "id": "GMajn3b0T7oc",
        "outputId": "e6e04019-5e90-49b0-9f57-77ebedce53bb"
      },
      "execution_count": null,
      "outputs": [
        {
          "output_type": "stream",
          "name": "stdout",
          "text": [
            "enter the side : 4\n",
            "enter the side : 3\n",
            "enter the side : 5\n",
            "perimeter of traingle :  12\n",
            "area of traingle 6.0\n"
          ]
        }
      ]
    },
    {
      "cell_type": "markdown",
      "source": [
        "pgm 3"
      ],
      "metadata": {
        "id": "85_U5yI1JtYF"
      }
    },
    {
      "cell_type": "code",
      "source": [
        "r=int(input(\"raduis of the circle :\"))\n",
        "area=3.14*r*r\n",
        "print(\"area of the circle\",area)"
      ],
      "metadata": {
        "colab": {
          "base_uri": "https://localhost:8080/"
        },
        "id": "YmJrnYCwVyi8",
        "outputId": "9091a7ad-f6ea-4a96-d248-9399a3eeb3a1"
      },
      "execution_count": null,
      "outputs": [
        {
          "output_type": "stream",
          "name": "stdout",
          "text": [
            "raduis of the circle :5\n",
            "area of the circle 78.5\n"
          ]
        }
      ]
    },
    {
      "cell_type": "markdown",
      "source": [
        "pgm 4"
      ],
      "metadata": {
        "id": "nrJHL2a8Jv3G"
      }
    },
    {
      "cell_type": "code",
      "source": [
        "a=int(input(\"enter the 1st number : \"))\n",
        "b=int(input(\"enter the 2nd number : \"))\n",
        "c=int(input(\"enter the 3rd number : \"))\n",
        "\n",
        "sum=a+b+c\n",
        "\n",
        "avg=sum//3\n",
        "\n",
        "\n",
        "\n",
        "print(\"sum is\",sum)\n",
        "print(\"avg is\",avg)"
      ],
      "metadata": {
        "colab": {
          "base_uri": "https://localhost:8080/"
        },
        "id": "7kI6WxqIWXUU",
        "outputId": "0cadfa4b-25b3-4163-c501-6888ecd953f8"
      },
      "execution_count": null,
      "outputs": [
        {
          "output_type": "stream",
          "name": "stdout",
          "text": [
            "enter the 1st number : 9\n",
            "enter the 2nd number : 7\n",
            "enter the 3rd number : 3\n",
            "sum is 19\n",
            "avg is 6\n"
          ]
        }
      ]
    },
    {
      "cell_type": "markdown",
      "source": [
        "pgm 5"
      ],
      "metadata": {
        "id": "zVbHA0tVJxyV"
      }
    },
    {
      "cell_type": "code",
      "source": [
        "total_days = int(input(\"Enter the total number of days: \"))\n",
        "\n",
        "years = total_days // 365\n",
        "remaining_days = total_days % 365\n",
        "months = remaining_days // 30\n",
        "days = remaining_days % 30\n",
        "\n",
        "print(\"Years:\", years, \"Months:\", months, \"Days:\", days)\n"
      ],
      "metadata": {
        "id": "Ct1SL2YDYN9c",
        "colab": {
          "base_uri": "https://localhost:8080/"
        },
        "outputId": "0ff29c57-bcbf-4eab-8522-0b2f677391bc"
      },
      "execution_count": null,
      "outputs": [
        {
          "output_type": "stream",
          "name": "stdout",
          "text": [
            "Enter the total number of days: 2456\n",
            "Years: 6 Months: 8 Days: 26\n"
          ]
        }
      ]
    },
    {
      "cell_type": "markdown",
      "source": [
        "pgm 6"
      ],
      "metadata": {
        "id": "XylUxAEcN5Dv"
      }
    },
    {
      "cell_type": "code",
      "source": [
        "seconds=int(input(\"enter the seconds\"))\n",
        "hours = seconds // 3600\n",
        "minutes = (seconds % 3600) // 60\n",
        "remaining_seconds = seconds % 60\n",
        "print(\"Hours:\", hours, \"Minutes:\", minutes, \"Seconds:\", remaining_seconds)\n"
      ],
      "metadata": {
        "colab": {
          "base_uri": "https://localhost:8080/"
        },
        "id": "wd_k3M4pN993",
        "outputId": "8d2e3844-ea5c-4ff8-8996-5bf4adbb1acb"
      },
      "execution_count": null,
      "outputs": [
        {
          "output_type": "stream",
          "name": "stdout",
          "text": [
            "enter the seconds630\n",
            "Hours: 0 Minutes: 10 Seconds: 30\n"
          ]
        }
      ]
    },
    {
      "cell_type": "markdown",
      "source": [
        "pgm 7"
      ],
      "metadata": {
        "id": "uxsmc7VgOTq9"
      }
    },
    {
      "cell_type": "code",
      "source": [
        "num1 = int(input(\"Enter the first number: \"))\n",
        "num2 = int(input(\"Enter the second number: \"))\n",
        "\n",
        "sum_result = num1 + num2\n",
        "difference = num1 - num2\n",
        "product = num1 * num2\n",
        "quotient = num1 / num2\n",
        "\n",
        "print(\"Sum:\", sum_result, \"Difference:\", difference, \"Product:\", product, \"Quotient:\", quotient)\n"
      ],
      "metadata": {
        "colab": {
          "base_uri": "https://localhost:8080/"
        },
        "id": "VyXzIPxfOVQu",
        "outputId": "fea03cd1-cf07-4395-9532-539e8059d7b8"
      },
      "execution_count": null,
      "outputs": [
        {
          "output_type": "stream",
          "name": "stdout",
          "text": [
            "Enter the first number: 9\n",
            "Enter the second number: 6\n",
            "Sum: 15 Difference: 3 Product: 54 Quotient: 1.5\n"
          ]
        }
      ]
    },
    {
      "cell_type": "markdown",
      "source": [
        "pgm 8"
      ],
      "metadata": {
        "id": "irJUC2-NPIrT"
      }
    },
    {
      "cell_type": "code",
      "source": [
        "a = int(input(\"Enter a: \"))\n",
        "b = int(input(\"Enter b: \"))\n",
        "c = int(input(\"Enter c: \"))\n",
        "\n",
        "root1 = (-b + (b**2 - 4*a*c)**0.5) / (2*a)\n",
        "root2 = (-b - (b**2 - 4*a*c)**0.5) / (2*a)\n",
        "\n",
        "print(\"Root 1:\", root1, \"Root 2:\", root2)\n",
        "\n"
      ],
      "metadata": {
        "colab": {
          "base_uri": "https://localhost:8080/"
        },
        "id": "a93GpWBIPRuW",
        "outputId": "a871c17e-4d9a-42f5-ea29-2a417f24d701"
      },
      "execution_count": null,
      "outputs": [
        {
          "output_type": "stream",
          "name": "stdout",
          "text": [
            "Enter a: 2\n",
            "Enter b: 4\n",
            "Enter c: 2\n",
            "Root 1: -1.0 Root 2: -1.0\n"
          ]
        }
      ]
    },
    {
      "cell_type": "markdown",
      "source": [
        "pgm 9"
      ],
      "metadata": {
        "id": "GcoymAzbP3Re"
      }
    },
    {
      "cell_type": "code",
      "source": [
        "subject1 = int(input(\"Enter marks  \"))\n",
        "subject2 = int(input(\"Enter marks : \"))\n",
        "subject3 = int(input(\"Enter marks  \"))\n",
        "subject4 = int(input(\"Enter marks  \"))\n",
        "subject5 = int(input(\"Enter marks  \"))\n",
        "\n",
        "total_marks = subject1 + subject2 + subject3 + subject4 + subject5\n",
        "percentage = (total_marks / 500) * 100\n",
        "print(\"Percentage:\", percentage)\n"
      ],
      "metadata": {
        "colab": {
          "base_uri": "https://localhost:8080/"
        },
        "id": "wIOO7ljTQETg",
        "outputId": "0cc14eb8-082d-446e-9478-8fa691b47dc3"
      },
      "execution_count": null,
      "outputs": [
        {
          "output_type": "stream",
          "name": "stdout",
          "text": [
            "Enter marks  23\n",
            "Enter marks : 45\n",
            "Enter marks  56\n",
            "Enter marks  56\n",
            "Enter marks  67\n",
            "Percentage: 49.4\n"
          ]
        }
      ]
    },
    {
      "cell_type": "markdown",
      "source": [
        "pgm 10"
      ],
      "metadata": {
        "id": "HS96JqMZQ2Qv"
      }
    },
    {
      "cell_type": "code",
      "source": [
        "celsiustemperature = float(input(\"Enter temperature in Celsius: \"))\n",
        "fahrenheittemperature = (celsiustemperature * 9/5) + 32\n",
        "\n",
        "print(\"Temperature in Fahrenheit:\", fahrenheittemperature)\n",
        "\n"
      ],
      "metadata": {
        "colab": {
          "base_uri": "https://localhost:8080/"
        },
        "id": "6bCqjA68Q5Eu",
        "outputId": "7bfe5b7a-061c-4d51-c873-21400a75d580"
      },
      "execution_count": null,
      "outputs": [
        {
          "output_type": "stream",
          "name": "stdout",
          "text": [
            "Enter temperature in Celsius: 34\n",
            "Temperature in Fahrenheit: 93.2\n"
          ]
        }
      ]
    }
  ]
}