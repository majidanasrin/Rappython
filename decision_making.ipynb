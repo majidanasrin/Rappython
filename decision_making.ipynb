{
  "nbformat": 4,
  "nbformat_minor": 0,
  "metadata": {
    "colab": {
      "provenance": []
    },
    "kernelspec": {
      "name": "python3",
      "display_name": "Python 3"
    },
    "language_info": {
      "name": "python"
    }
  },
  "cells": [
    {
      "cell_type": "markdown",
      "source": [
        "pgm 1"
      ],
      "metadata": {
        "id": "o-1uPyvyISJ8"
      }
    },
    {
      "cell_type": "code",
      "source": [
        "n1=int(input(\"enter the number : \"))\n",
        "n2=int(input(\"enter the number : \"))\n",
        "\n",
        "if n1>n2:\n",
        "  print(n1,\"greater than \", n2)\n",
        "elif n2>n1:\n",
        "  print(n2,\"greater than \",n1)"
      ],
      "metadata": {
        "colab": {
          "base_uri": "https://localhost:8080/"
        },
        "id": "yTD1sftRWwBm",
        "outputId": "1469236f-8430-4d0b-e020-e82811db1398"
      },
      "execution_count": null,
      "outputs": [
        {
          "output_type": "stream",
          "name": "stdout",
          "text": [
            "enter the number : 5\n",
            "enter the number : 7\n",
            "7 greater than  5\n"
          ]
        }
      ]
    },
    {
      "cell_type": "markdown",
      "source": [
        "pgm 2"
      ],
      "metadata": {
        "id": "2InUbC7lIUca"
      }
    },
    {
      "cell_type": "code",
      "source": [
        "n=int(input(\"enter the number : \"))\n",
        "\n",
        "if n%2==0:\n",
        "  print(n,\"is a even number\")\n",
        "else:\n",
        "  print(n,\"is an odd number\")"
      ],
      "metadata": {
        "colab": {
          "base_uri": "https://localhost:8080/"
        },
        "id": "5V7vzUl7Z0JU",
        "outputId": "9e81622d-945a-4f45-cfe1-1def1a7a2f63"
      },
      "execution_count": null,
      "outputs": [
        {
          "output_type": "stream",
          "name": "stdout",
          "text": [
            "enter the number : 3\n",
            "3 is an odd number\n"
          ]
        }
      ]
    },
    {
      "cell_type": "markdown",
      "source": [
        "pgm 3"
      ],
      "metadata": {
        "id": "CEEQE5ILIWVm"
      }
    },
    {
      "cell_type": "code",
      "source": [
        "n=int(input(\"enter the number\"))\n",
        "\n",
        "if n>0:\n",
        "  print('positive')\n",
        "elif n<0:\n",
        "  print('negative')\n",
        "else:\n",
        "  print('zero')"
      ],
      "metadata": {
        "colab": {
          "base_uri": "https://localhost:8080/"
        },
        "id": "f-KZ9A0Tb5sQ",
        "outputId": "c6f2dc1b-3cca-457f-fbb7-079b6c811ec6"
      },
      "execution_count": null,
      "outputs": [
        {
          "output_type": "stream",
          "name": "stdout",
          "text": [
            "enter the number-7\n",
            "negative\n"
          ]
        }
      ]
    },
    {
      "cell_type": "markdown",
      "source": [
        "pgm 4"
      ],
      "metadata": {
        "id": "6mv35jyGIY7t"
      }
    },
    {
      "cell_type": "code",
      "source": [
        "n=int(input(\"enter the digit\"))\n",
        "\n",
        "if 9<n<100:\n",
        "  print(\"it is a two digit number\")\n",
        "else:\n",
        "  print(\"not a two digit number\")"
      ],
      "metadata": {
        "colab": {
          "base_uri": "https://localhost:8080/"
        },
        "id": "Z7nljcT-cqJk",
        "outputId": "4c136c0e-5967-4c96-fcf9-7ac7cc448073"
      },
      "execution_count": null,
      "outputs": [
        {
          "output_type": "stream",
          "name": "stdout",
          "text": [
            "enter the digit9\n",
            "not a two digit number\n"
          ]
        }
      ]
    },
    {
      "cell_type": "markdown",
      "source": [
        "pgm 5"
      ],
      "metadata": {
        "id": "k7two0G8IavV"
      }
    },
    {
      "cell_type": "code",
      "source": [
        "n1=int(input(\"enyer the first number\"))\n",
        "n2=int(input(\"enter the number\"))\n",
        "n3=int(input(\"enter the number\"))\n",
        "\n",
        "if n1<n2 and n1<n3:\n",
        "  print(n1,'is smallest number')\n",
        "elif n1>n2 and n2<n3:\n",
        "  print(n2,\"is smallest number\")\n",
        "else:\n",
        "  print(n3,\"is smallest number\")"
      ],
      "metadata": {
        "colab": {
          "base_uri": "https://localhost:8080/"
        },
        "id": "Z4y7zdC4eMdE",
        "outputId": "ce6f3c9e-763a-43d7-dbff-104354741601"
      },
      "execution_count": null,
      "outputs": [
        {
          "output_type": "stream",
          "name": "stdout",
          "text": [
            "enyer the first number7\n",
            "enter the number9\n",
            "enter the number8\n",
            "7 is smallest number\n"
          ]
        }
      ]
    },
    {
      "cell_type": "markdown",
      "source": [
        "Pgm 6"
      ],
      "metadata": {
        "id": "Dc54kc5n-tNe"
      }
    },
    {
      "cell_type": "code",
      "source": [
        "num1 = int(input(\"Enter the first number: \"))\n",
        "num2 = int(input(\"Enter the second number: \"))\n",
        "num3 = int(input(\"Enter the third number: \"))\n",
        "\n",
        "smallest = num1 if (num1 < num2 and num1 < num3) else (num2 if num2 < num3 else num3)\n",
        "\n",
        "print(\"The smallest number is:\", smallest)"
      ],
      "metadata": {
        "id": "mDEsawgeSNao",
        "colab": {
          "base_uri": "https://localhost:8080/"
        },
        "outputId": "045cd1e3-298d-4f09-cc2f-1434521a7497"
      },
      "execution_count": null,
      "outputs": [
        {
          "output_type": "stream",
          "name": "stdout",
          "text": [
            "Enter the first number: 5\n",
            "Enter the second number: 3\n",
            "Enter the third number: 2\n",
            "The smallest number is: 2\n"
          ]
        }
      ]
    },
    {
      "cell_type": "markdown",
      "source": [
        "Pgm 7"
      ],
      "metadata": {
        "id": "4lNyzowS-w8B"
      }
    },
    {
      "cell_type": "code",
      "source": [
        "\n",
        "two_digit_number = int(input(\"Enter a two-digit number: \"))\n",
        "\n",
        "tens_digit = two_digit_number // 10\n",
        "units_digit = two_digit_number % 10\n",
        "\n",
        "smallest_digit = tens_digit if tens_digit < units_digit else units_digit\n",
        "\n",
        "print(\"The smallest digit is:\", smallest_digit)"
      ],
      "metadata": {
        "colab": {
          "base_uri": "https://localhost:8080/"
        },
        "id": "XvZymx0i_wY0",
        "outputId": "6b8647b1-e8a1-4bb8-f674-e54871389ce3"
      },
      "execution_count": null,
      "outputs": [
        {
          "output_type": "stream",
          "name": "stdout",
          "text": [
            "Enter a two-digit number: 12\n",
            "The smallest digit is: 1\n"
          ]
        }
      ]
    },
    {
      "cell_type": "markdown",
      "source": [
        "Pgm 8"
      ],
      "metadata": {
        "id": "LSiAPnQl_9cL"
      }
    },
    {
      "cell_type": "code",
      "source": [
        "num1 = int(input(\"Enter the first number: \"))\n",
        "num2 = int(input(\"Enter the second number: \"))\n",
        "\n",
        "is_divisible = num1 % num2 == 0\n",
        "\n",
        "if is_divisible:\n",
        "    print(f\"{num1} is divisible by {num2}.\")\n",
        "else:\n",
        "    print(f\"{num1} is not divisible by {num2}.\")"
      ],
      "metadata": {
        "colab": {
          "base_uri": "https://localhost:8080/"
        },
        "id": "-WzJe388_-lU",
        "outputId": "5c318632-b802-4f16-dfa5-780db9aa905f"
      },
      "execution_count": null,
      "outputs": [
        {
          "output_type": "stream",
          "name": "stdout",
          "text": [
            "Enter the first number: 12\n",
            "Enter the second number: 5\n",
            "12 is not divisible by 5.\n"
          ]
        }
      ]
    },
    {
      "cell_type": "markdown",
      "source": [
        "Pgm 9"
      ],
      "metadata": {
        "id": "zSGrc-YKAEDX"
      }
    },
    {
      "cell_type": "code",
      "source": [
        "\n",
        "p1 = float(input(\"Enter the first point on the number line: \"))\n",
        "p2 = float(input(\"Enter the second point on the number line: \"))\n",
        "\n",
        "distance = abs(p2 - p1)\n",
        "\n",
        "print(f\"The distance between {p1} and {p2} on the number line is: {distance}\")"
      ],
      "metadata": {
        "colab": {
          "base_uri": "https://localhost:8080/"
        },
        "id": "MA415gfSAFgv",
        "outputId": "06fb5bdf-efc0-452d-feeb-1b3bb8a41fcf"
      },
      "execution_count": null,
      "outputs": [
        {
          "output_type": "stream",
          "name": "stdout",
          "text": [
            "Enter the first point on the number line: 1\n",
            "Enter the second point on the number line: 9\n",
            "The distance between 1.0 and 9.0 on the number line is: 8.0\n"
          ]
        }
      ]
    },
    {
      "cell_type": "markdown",
      "source": [
        "Pgm 10"
      ],
      "metadata": {
        "id": "uZoBm3wRApHp"
      }
    },
    {
      "cell_type": "code",
      "source": [
        "year = int(input(\"Enter a year: \"))\n",
        "\n",
        "is_leap_year = (year % 4 == 0 and year % 100 != 0) or (year % 400 == 0)\n",
        "\n",
        "if is_leap_year:\n",
        "    print(f\"{year} is a leap year.\")\n",
        "else:\n",
        "    print(f\"{year} is not a leap year.\")"
      ],
      "metadata": {
        "colab": {
          "base_uri": "https://localhost:8080/"
        },
        "id": "5_aaniOrA8dk",
        "outputId": "5bb21383-2e04-4a6f-bc58-134ca914249a"
      },
      "execution_count": null,
      "outputs": [
        {
          "output_type": "stream",
          "name": "stdout",
          "text": [
            "Enter a year: 2024\n",
            "2024 is a leap year.\n"
          ]
        }
      ]
    }
  ]
}