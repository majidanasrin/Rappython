{
  "nbformat": 4,
  "nbformat_minor": 0,
  "metadata": {
    "colab": {
      "provenance": []
    },
    "kernelspec": {
      "name": "python3",
      "display_name": "Python 3"
    },
    "language_info": {
      "name": "python"
    }
  },
  "cells": [
    {
      "cell_type": "markdown",
      "source": [
        "Pgm 1"
      ],
      "metadata": {
        "id": "FeUXldf-CjeR"
      }
    },
    {
      "cell_type": "code",
      "source": [
        "n = int(input(\"Enter the value of n: \"))\n",
        "oddnumbers = [2*i + 1 for i in range(n)]\n",
        "print(\"First\", n, \"odd numbers:\", oddnumbers)"
      ],
      "metadata": {
        "colab": {
          "base_uri": "https://localhost:8080/"
        },
        "id": "-CrJP9GnCqBv",
        "outputId": "9c0543e9-c5f2-4108-fd93-eff399ee196d"
      },
      "execution_count": null,
      "outputs": [
        {
          "output_type": "stream",
          "name": "stdout",
          "text": [
            "Enter the value of n: 16\n",
            "First 16 odd numbers: [1, 3, 5, 7, 9, 11, 13, 15, 17, 19, 21, 23, 25, 27, 29, 31]\n"
          ]
        }
      ]
    },
    {
      "cell_type": "markdown",
      "source": [
        "Pgm 2"
      ],
      "metadata": {
        "id": "pAWB6gJkDJpy"
      }
    },
    {
      "cell_type": "code",
      "source": [
        "\n",
        "number = int(input(\"Enter a number: \"))\n",
        "temp = number\n",
        "rev = 0\n",
        "\n",
        "while number > 0:\n",
        "    digit = number % 10\n",
        "    rev = rev * 10 + digit\n",
        "    number = number // 10\n",
        "\n",
        "if temp == rev:\n",
        "    print(f\"{temp} is a palindrome.\")\n",
        "else:\n",
        "    print(f\"{temp} is not a palindrome.\")"
      ],
      "metadata": {
        "colab": {
          "base_uri": "https://localhost:8080/"
        },
        "id": "7iQFM-bUDoGm",
        "outputId": "044864e1-9383-4046-d1b8-a60959af98ca"
      },
      "execution_count": null,
      "outputs": [
        {
          "output_type": "stream",
          "name": "stdout",
          "text": [
            "Enter a number: 123321\n",
            "123321 is a palindrome.\n"
          ]
        }
      ]
    },
    {
      "cell_type": "markdown",
      "source": [
        "Pgm 3"
      ],
      "metadata": {
        "id": "sWQY2E14D2Nq"
      }
    },
    {
      "cell_type": "code",
      "source": [
        "binary_num = input(\"Enter a binary number: \")\n",
        "decimal_num = int(binary_num, 2)\n",
        "print(\"Decimal equivalent:\", decimal_num)"
      ],
      "metadata": {
        "colab": {
          "base_uri": "https://localhost:8080/"
        },
        "id": "4Wv2tRKuD3GT",
        "outputId": "a40c2fa5-b0ad-4df4-c32f-d14c139a5c8c"
      },
      "execution_count": null,
      "outputs": [
        {
          "output_type": "stream",
          "name": "stdout",
          "text": [
            "Enter a binary number: 100\n",
            "Decimal equivalent: 4\n"
          ]
        }
      ]
    },
    {
      "cell_type": "markdown",
      "source": [
        "Pgm 4"
      ],
      "metadata": {
        "id": "rS9xUop-EXI-"
      }
    },
    {
      "cell_type": "code",
      "source": [
        "n = int(input(\"Enter the value of n: \"))\n",
        "sumofnatural = n * (n + 1) // 2\n",
        "print(\"Sum of first\", n, \"natural numbers:\", sumofnatural)"
      ],
      "metadata": {
        "colab": {
          "base_uri": "https://localhost:8080/"
        },
        "id": "IqI4hQMUEbNc",
        "outputId": "b8ff23c5-e1fe-4c77-fb12-4278e0624231"
      },
      "execution_count": null,
      "outputs": [
        {
          "output_type": "stream",
          "name": "stdout",
          "text": [
            "Enter the value of n: 4\n",
            "Sum of first 4 natural numbers: 10\n"
          ]
        }
      ]
    },
    {
      "cell_type": "markdown",
      "source": [
        "Pgm 5"
      ],
      "metadata": {
        "id": "LyELB6BvExV2"
      }
    },
    {
      "cell_type": "code",
      "source": [
        "number = int(input(\"Enter a number: \"))\n",
        "reverse_number = 0\n",
        "\n",
        "while number > 0:\n",
        "    digit = number % 10\n",
        "    reverse_number = reverse_number * 10 + digit\n",
        "    number = number // 10\n",
        "\n",
        "print(\"Reverse:\", reverse_number)"
      ],
      "metadata": {
        "colab": {
          "base_uri": "https://localhost:8080/"
        },
        "id": "Ekee6YOBE0Jw",
        "outputId": "81a158e7-f7f6-4c17-bd90-2caaf70cedb4"
      },
      "execution_count": null,
      "outputs": [
        {
          "output_type": "stream",
          "name": "stdout",
          "text": [
            "Enter a number: 12\n",
            "Reverse: 21\n"
          ]
        }
      ]
    },
    {
      "cell_type": "markdown",
      "source": [
        "Pgm 6"
      ],
      "metadata": {
        "id": "Jqcq33-fFB4B"
      }
    },
    {
      "cell_type": "code",
      "source": [
        "n = int(input(\"Enter a number: \"))\n",
        "fact = 1\n",
        "\n",
        "for i in range(1, n + 1):\n",
        "    fact *= i\n",
        "\n",
        "print(\"Factorial of\", n, \"is:\", fact)"
      ],
      "metadata": {
        "colab": {
          "base_uri": "https://localhost:8080/"
        },
        "id": "rjhDYSqCFEu1",
        "outputId": "1884563e-9381-4c66-b8ee-7460fa7632b4"
      },
      "execution_count": null,
      "outputs": [
        {
          "output_type": "stream",
          "name": "stdout",
          "text": [
            "Enter a number: 5\n",
            "Factorial of 5 is: 120\n"
          ]
        }
      ]
    },
    {
      "cell_type": "markdown",
      "source": [
        "Pgm 7"
      ],
      "metadata": {
        "id": "BIg64VEyFSFQ"
      }
    },
    {
      "cell_type": "code",
      "source": [
        "num = int(input(\"Enter a number: \"))\n",
        "sq = num ** 2\n",
        "digits_num = len(str(num))\n",
        "end_digits = sq % (10 ** digits_num)\n",
        "\n",
        "if end_digits == num:\n",
        "    print(f\"{num} is an Automorphic number.\")\n",
        "else:\n",
        "    print(f\"{num} is not an Automorphic number.\")"
      ],
      "metadata": {
        "colab": {
          "base_uri": "https://localhost:8080/"
        },
        "id": "4X-HyhPfFmJ1",
        "outputId": "7d76ca1d-ae93-4ae0-e346-a1884bea00e0"
      },
      "execution_count": null,
      "outputs": [
        {
          "output_type": "stream",
          "name": "stdout",
          "text": [
            "Enter a number: 76\n",
            "76 is an Automorphic number.\n"
          ]
        }
      ]
    },
    {
      "cell_type": "markdown",
      "source": [
        "Pgm 8"
      ],
      "metadata": {
        "id": "oDX8m3WYF62y"
      }
    },
    {
      "cell_type": "code",
      "source": [
        "number = int(input(\"Enter a number: \"))\n",
        "sum_fact = 0\n",
        "\n",
        "for i in range(1, number + 1):\n",
        "    if number % i == 0:\n",
        "        sum_fact += i\n",
        "\n",
        "print(\"Sum of factors of\", number, \"is:\", sum_fact)"
      ],
      "metadata": {
        "colab": {
          "base_uri": "https://localhost:8080/"
        },
        "id": "ErHv5bwkF8Wi",
        "outputId": "b8c05048-c398-4895-fcdd-0be4f313b437"
      },
      "execution_count": null,
      "outputs": [
        {
          "output_type": "stream",
          "name": "stdout",
          "text": [
            "Enter a number: 12\n",
            "Sum of factors of 12 is: 28\n"
          ]
        }
      ]
    },
    {
      "cell_type": "markdown",
      "source": [
        "Pgm 9"
      ],
      "metadata": {
        "id": "No1mq-12GTFT"
      }
    },
    {
      "cell_type": "code",
      "source": [
        "num1 = int(input(\"Enter the first number: \"))\n",
        "num2 = int(input(\"Enter the second number: \"))\n",
        "\n",
        "while num2 != 0:\n",
        "    temp = num2\n",
        "    num2 = num1 % num2\n",
        "    num1 = temp\n",
        "\n",
        "gcd = num1\n",
        "print(\"GCD of the two numbers is:\", gcd)"
      ],
      "metadata": {
        "colab": {
          "base_uri": "https://localhost:8080/"
        },
        "id": "tw_VwS_HGU5x",
        "outputId": "722cd8b2-c814-44d4-caa5-3433dea54d36"
      },
      "execution_count": null,
      "outputs": [
        {
          "output_type": "stream",
          "name": "stdout",
          "text": [
            "Enter the first number: 5\n",
            "Enter the second number: 6\n",
            "GCD of the two numbers is: 1\n"
          ]
        }
      ]
    },
    {
      "cell_type": "markdown",
      "source": [
        "Pgm 10"
      ],
      "metadata": {
        "id": "N4BU7t9SGeOX"
      }
    },
    {
      "cell_type": "code",
      "source": [
        "number = int(input(\"Enter a number: \"))\n",
        "temp = number\n",
        "num_digits = len(str(number))\n",
        "sum_arm = 0\n",
        "\n",
        "while number > 0:\n",
        "    digit = number % 10\n",
        "    sum_arm += digit ** num_digits\n",
        "    number = number // 10\n",
        "\n",
        "if temp == sum_arm:\n",
        "    print(f\"{temp} is an Armstrong number.\")\n",
        "else:\n",
        "    print(f\"{temp} is not an Armstrong number.\")"
      ],
      "metadata": {
        "colab": {
          "base_uri": "https://localhost:8080/"
        },
        "id": "GQGX3wkcGjRY",
        "outputId": "ecca7844-eca0-40fe-eac2-68d16824876b"
      },
      "execution_count": null,
      "outputs": [
        {
          "output_type": "stream",
          "name": "stdout",
          "text": [
            "Enter a number: 153\n",
            "153 is an Armstrong number.\n"
          ]
        }
      ]
    },
    {
      "cell_type": "markdown",
      "source": [
        "Pgm 11"
      ],
      "metadata": {
        "id": "u8hKdUP9G1kE"
      }
    },
    {
      "cell_type": "code",
      "source": [
        "start = int(input(\"Enter the starting number: \"))\n",
        "end = int(input(\"Enter the ending number: \"))\n",
        "\n",
        "squares = [i ** 2 for i in range(start, end + 1)]\n",
        "print(\"Squares of natural numbers between\", start, \"and\", end, \"are:\", squares)"
      ],
      "metadata": {
        "colab": {
          "base_uri": "https://localhost:8080/"
        },
        "id": "Pwk6u3h1G2ab",
        "outputId": "4f9b3dd6-e8dc-4e2b-e335-03d53bc60160"
      },
      "execution_count": null,
      "outputs": [
        {
          "output_type": "stream",
          "name": "stdout",
          "text": [
            "Enter the starting number: 1\n",
            "Enter the ending number: 4\n",
            "Squares of natural numbers between 1 and 4 are: [1, 4, 9, 16]\n"
          ]
        }
      ]
    },
    {
      "cell_type": "markdown",
      "source": [
        "Pgm 11"
      ],
      "metadata": {
        "id": "NkReB1NZHdWr"
      }
    },
    {
      "cell_type": "code",
      "source": [
        "n = int(input(\"Enter the value of n: \"))\n",
        "sum_series = 0\n",
        "\n",
        "for i in range(1, n + 1):\n",
        "    term = (-1) ** (i + 1) * i ** 2\n",
        "    sum_series += term\n",
        "\n",
        "print(\"Sum up to the series is:\", sum_series)"
      ],
      "metadata": {
        "colab": {
          "base_uri": "https://localhost:8080/"
        },
        "id": "DyCf847IHefP",
        "outputId": "397c925f-74cc-4572-bede-e4726ca2177a"
      },
      "execution_count": null,
      "outputs": [
        {
          "output_type": "stream",
          "name": "stdout",
          "text": [
            "Enter the value of n: 11\n",
            "Sum up to the series is: 66\n"
          ]
        }
      ]
    },
    {
      "cell_type": "markdown",
      "source": [
        "Pgm 12"
      ],
      "metadata": {
        "id": "IJIKbojPH5O2"
      }
    },
    {
      "cell_type": "code",
      "source": [
        "x = float(input(\"Enter the value of x: \"))\n",
        "n = int(input(\"Enter the value of n: \"))\n",
        "result = 1\n",
        "\n",
        "for _ in range(n):\n",
        "    result *= x\n",
        "\n",
        "print(f\"{x} raised to the power of {n} is:\", result)"
      ],
      "metadata": {
        "colab": {
          "base_uri": "https://localhost:8080/"
        },
        "id": "e657SNiWH6j6",
        "outputId": "822ae883-7220-496f-d1a7-6debc3ebb6ad"
      },
      "execution_count": null,
      "outputs": [
        {
          "output_type": "stream",
          "name": "stdout",
          "text": [
            "Enter the value of x: 2\n",
            "Enter the value of n: 3\n",
            "2.0 raised to the power of 3 is: 8.0\n"
          ]
        }
      ]
    },
    {
      "cell_type": "markdown",
      "source": [
        "Pgm 13"
      ],
      "metadata": {
        "id": "aVJa_hTGIB9U"
      }
    },
    {
      "cell_type": "code",
      "source": [
        "n = int(input(\"Enter the number of terms in the Fibonacci series: \"))\n",
        "fibonacci_series = [0, 1]\n",
        "\n",
        "for i in range(2, n):\n",
        "    next_term = fibonacci_series[i - 1] + fibonacci_series[i - 2]\n",
        "    fibonacci_series.append(next_term)\n",
        "\n",
        "print(\"Fibonacci series:\", fibonacci_series)"
      ],
      "metadata": {
        "colab": {
          "base_uri": "https://localhost:8080/"
        },
        "id": "cdYBrqAhIDCV",
        "outputId": "9850b5d6-397c-421c-dfb2-78af966d5106"
      },
      "execution_count": null,
      "outputs": [
        {
          "output_type": "stream",
          "name": "stdout",
          "text": [
            "Enter the number of terms in the Fibonacci series: 3\n",
            "Fibonacci series: [0, 1, 1]\n"
          ]
        }
      ]
    }
  ]
}